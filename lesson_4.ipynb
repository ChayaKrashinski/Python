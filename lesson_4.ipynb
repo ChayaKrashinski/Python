{
 "cells": [
  {
   "cell_type": "code",
   "execution_count": 1,
   "id": "b2ec30fc-242d-4af0-863d-ab801884b7be",
   "metadata": {},
   "outputs": [
    {
     "name": "stdout",
     "output_type": "stream",
     "text": [
      "Collecting numpy\n",
      "  Downloading numpy-1.26.4-cp310-cp310-win_amd64.whl.metadata (61 kB)\n",
      "     ---------------------------------------- 0.0/61.0 kB ? eta -:--:--\n",
      "     -------------------- ------------------- 30.7/61.0 kB 1.3 MB/s eta 0:00:01\n",
      "     -------------------------------------- 61.0/61.0 kB 806.3 kB/s eta 0:00:00\n",
      "Downloading numpy-1.26.4-cp310-cp310-win_amd64.whl (15.8 MB)\n",
      "   ---------------------------------------- 0.0/15.8 MB ? eta -:--:--\n",
      "   ---------------------------------------- 0.0/15.8 MB ? eta -:--:--\n",
      "   ---------------------------------------- 0.1/15.8 MB 1.3 MB/s eta 0:00:12\n",
      "   ---------------------------------------- 0.1/15.8 MB 1.3 MB/s eta 0:00:12\n",
      "    --------------------------------------- 0.3/15.8 MB 1.4 MB/s eta 0:00:11\n",
      "   - -------------------------------------- 0.4/15.8 MB 1.8 MB/s eta 0:00:09\n",
      "   - -------------------------------------- 0.5/15.8 MB 1.9 MB/s eta 0:00:08\n",
      "   - -------------------------------------- 0.5/15.8 MB 1.9 MB/s eta 0:00:08\n",
      "   - -------------------------------------- 0.7/15.8 MB 1.9 MB/s eta 0:00:08\n",
      "   -- ------------------------------------- 0.8/15.8 MB 1.9 MB/s eta 0:00:08\n",
      "   -- ------------------------------------- 0.8/15.8 MB 1.8 MB/s eta 0:00:09\n",
      "   -- ------------------------------------- 1.0/15.8 MB 1.9 MB/s eta 0:00:08\n",
      "   -- ------------------------------------- 1.1/15.8 MB 1.9 MB/s eta 0:00:08\n",
      "   --- ------------------------------------ 1.2/15.8 MB 1.9 MB/s eta 0:00:08\n",
      "   --- ------------------------------------ 1.2/15.8 MB 1.9 MB/s eta 0:00:08\n",
      "   --- ------------------------------------ 1.3/15.8 MB 1.9 MB/s eta 0:00:08\n",
      "   --- ------------------------------------ 1.4/15.8 MB 1.9 MB/s eta 0:00:08\n",
      "   --- ------------------------------------ 1.5/15.8 MB 1.9 MB/s eta 0:00:08\n",
      "   ---- ----------------------------------- 1.6/15.8 MB 1.9 MB/s eta 0:00:08\n",
      "   ---- ----------------------------------- 1.6/15.8 MB 1.9 MB/s eta 0:00:08\n",
      "   ---- ----------------------------------- 1.6/15.8 MB 1.8 MB/s eta 0:00:08\n",
      "   ---- ----------------------------------- 1.7/15.8 MB 1.8 MB/s eta 0:00:08\n",
      "   ---- ----------------------------------- 1.9/15.8 MB 1.8 MB/s eta 0:00:08\n",
      "   ---- ----------------------------------- 1.9/15.8 MB 1.8 MB/s eta 0:00:08\n",
      "   ----- ---------------------------------- 2.0/15.8 MB 1.8 MB/s eta 0:00:08\n",
      "   ----- ---------------------------------- 2.1/15.8 MB 1.8 MB/s eta 0:00:08\n",
      "   ----- ---------------------------------- 2.2/15.8 MB 1.8 MB/s eta 0:00:08\n",
      "   ----- ---------------------------------- 2.3/15.8 MB 1.8 MB/s eta 0:00:08\n",
      "   ------ --------------------------------- 2.4/15.8 MB 1.8 MB/s eta 0:00:08\n",
      "   ------ --------------------------------- 2.5/15.8 MB 1.9 MB/s eta 0:00:08\n",
      "   ------ --------------------------------- 2.6/15.8 MB 1.8 MB/s eta 0:00:08\n",
      "   ------ --------------------------------- 2.6/15.8 MB 1.8 MB/s eta 0:00:08\n",
      "   ------ --------------------------------- 2.7/15.8 MB 1.8 MB/s eta 0:00:08\n",
      "   ------ --------------------------------- 2.8/15.8 MB 1.8 MB/s eta 0:00:08\n",
      "   ------- -------------------------------- 2.8/15.8 MB 1.8 MB/s eta 0:00:08\n",
      "   ------- -------------------------------- 2.9/15.8 MB 1.9 MB/s eta 0:00:07\n",
      "   ------- -------------------------------- 3.1/15.8 MB 1.9 MB/s eta 0:00:07\n",
      "   ------- -------------------------------- 3.1/15.8 MB 1.9 MB/s eta 0:00:07\n",
      "   -------- ------------------------------- 3.2/15.8 MB 1.9 MB/s eta 0:00:07\n",
      "   -------- ------------------------------- 3.3/15.8 MB 1.9 MB/s eta 0:00:07\n",
      "   -------- ------------------------------- 3.4/15.8 MB 1.9 MB/s eta 0:00:07\n",
      "   -------- ------------------------------- 3.5/15.8 MB 1.9 MB/s eta 0:00:07\n",
      "   --------- ------------------------------ 3.6/15.8 MB 1.9 MB/s eta 0:00:07\n",
      "   --------- ------------------------------ 3.7/15.8 MB 1.9 MB/s eta 0:00:07\n",
      "   --------- ------------------------------ 3.8/15.8 MB 1.9 MB/s eta 0:00:07\n",
      "   --------- ------------------------------ 3.9/15.8 MB 1.9 MB/s eta 0:00:07\n",
      "   ---------- ----------------------------- 4.0/15.8 MB 1.9 MB/s eta 0:00:07\n",
      "   ---------- ----------------------------- 4.1/15.8 MB 1.9 MB/s eta 0:00:07\n",
      "   ---------- ----------------------------- 4.2/15.8 MB 1.9 MB/s eta 0:00:07\n",
      "   ---------- ----------------------------- 4.3/15.8 MB 1.9 MB/s eta 0:00:06\n",
      "   ----------- ---------------------------- 4.4/15.8 MB 1.9 MB/s eta 0:00:06\n",
      "   ----------- ---------------------------- 4.5/15.8 MB 1.9 MB/s eta 0:00:06\n",
      "   ----------- ---------------------------- 4.7/15.8 MB 1.9 MB/s eta 0:00:06\n",
      "   ------------ --------------------------- 4.8/15.8 MB 2.0 MB/s eta 0:00:06\n",
      "   ------------ --------------------------- 4.9/15.8 MB 1.9 MB/s eta 0:00:06\n",
      "   ------------ --------------------------- 4.9/15.8 MB 1.9 MB/s eta 0:00:06\n",
      "   ------------ --------------------------- 5.1/15.8 MB 2.0 MB/s eta 0:00:06\n",
      "   ------------- -------------------------- 5.2/15.8 MB 2.0 MB/s eta 0:00:06\n",
      "   ------------- -------------------------- 5.2/15.8 MB 2.0 MB/s eta 0:00:06\n",
      "   ------------- -------------------------- 5.4/15.8 MB 2.0 MB/s eta 0:00:06\n",
      "   ------------- -------------------------- 5.5/15.8 MB 2.0 MB/s eta 0:00:06\n",
      "   -------------- ------------------------- 5.6/15.8 MB 2.0 MB/s eta 0:00:06\n",
      "   -------------- ------------------------- 5.6/15.8 MB 2.0 MB/s eta 0:00:06\n",
      "   -------------- ------------------------- 5.7/15.8 MB 2.0 MB/s eta 0:00:06\n",
      "   -------------- ------------------------- 5.8/15.8 MB 2.0 MB/s eta 0:00:06\n",
      "   -------------- ------------------------- 5.8/15.8 MB 2.0 MB/s eta 0:00:06\n",
      "   -------------- ------------------------- 5.8/15.8 MB 2.0 MB/s eta 0:00:06\n",
      "   --------------- ------------------------ 6.0/15.8 MB 1.9 MB/s eta 0:00:06\n",
      "   --------------- ------------------------ 6.1/15.8 MB 2.0 MB/s eta 0:00:05\n",
      "   --------------- ------------------------ 6.2/15.8 MB 2.0 MB/s eta 0:00:05\n",
      "   ---------------- ----------------------- 6.4/15.8 MB 2.0 MB/s eta 0:00:05\n",
      "   ---------------- ----------------------- 6.5/15.8 MB 2.0 MB/s eta 0:00:05\n",
      "   ---------------- ----------------------- 6.7/15.8 MB 2.0 MB/s eta 0:00:05\n",
      "   ----------------- ---------------------- 6.8/15.8 MB 2.0 MB/s eta 0:00:05\n",
      "   ----------------- ---------------------- 6.9/15.8 MB 2.0 MB/s eta 0:00:05\n",
      "   ----------------- ---------------------- 6.9/15.8 MB 2.0 MB/s eta 0:00:05\n",
      "   ------------------ --------------------- 7.2/15.8 MB 2.1 MB/s eta 0:00:05\n",
      "   ------------------ --------------------- 7.2/15.8 MB 2.0 MB/s eta 0:00:05\n",
      "   ------------------ --------------------- 7.2/15.8 MB 2.0 MB/s eta 0:00:05\n",
      "   ------------------ --------------------- 7.3/15.8 MB 2.0 MB/s eta 0:00:05\n",
      "   ------------------ --------------------- 7.3/15.8 MB 2.0 MB/s eta 0:00:05\n",
      "   ------------------ --------------------- 7.3/15.8 MB 2.0 MB/s eta 0:00:05\n",
      "   ------------------- -------------------- 7.5/15.8 MB 2.0 MB/s eta 0:00:05\n",
      "   ------------------- -------------------- 7.6/15.8 MB 2.0 MB/s eta 0:00:05\n",
      "   ------------------- -------------------- 7.7/15.8 MB 2.0 MB/s eta 0:00:05\n",
      "   ------------------- -------------------- 7.7/15.8 MB 2.0 MB/s eta 0:00:05\n",
      "   ------------------- -------------------- 7.7/15.8 MB 2.0 MB/s eta 0:00:05\n",
      "   ------------------- -------------------- 7.8/15.8 MB 2.0 MB/s eta 0:00:05\n",
      "   ------------------- -------------------- 7.8/15.8 MB 1.9 MB/s eta 0:00:05\n",
      "   ------------------- -------------------- 7.9/15.8 MB 1.9 MB/s eta 0:00:05\n",
      "   -------------------- ------------------- 7.9/15.8 MB 1.9 MB/s eta 0:00:05\n",
      "   -------------------- ------------------- 7.9/15.8 MB 1.9 MB/s eta 0:00:05\n",
      "   -------------------- ------------------- 8.0/15.8 MB 1.9 MB/s eta 0:00:05\n",
      "   -------------------- ------------------- 8.0/15.8 MB 1.9 MB/s eta 0:00:05\n",
      "   -------------------- ------------------- 8.0/15.8 MB 1.9 MB/s eta 0:00:05\n",
      "   -------------------- ------------------- 8.0/15.8 MB 1.9 MB/s eta 0:00:05\n",
      "   -------------------- ------------------- 8.1/15.8 MB 1.8 MB/s eta 0:00:05\n",
      "   -------------------- ------------------- 8.1/15.8 MB 1.8 MB/s eta 0:00:05\n",
      "   -------------------- ------------------- 8.1/15.8 MB 1.8 MB/s eta 0:00:05\n",
      "   -------------------- ------------------- 8.2/15.8 MB 1.8 MB/s eta 0:00:05\n",
      "   -------------------- ------------------- 8.2/15.8 MB 1.8 MB/s eta 0:00:05\n",
      "   -------------------- ------------------- 8.2/15.8 MB 1.8 MB/s eta 0:00:05\n",
      "   -------------------- ------------------- 8.2/15.8 MB 1.8 MB/s eta 0:00:05\n",
      "   -------------------- ------------------- 8.2/15.8 MB 1.7 MB/s eta 0:00:05\n",
      "   -------------------- ------------------- 8.3/15.8 MB 1.7 MB/s eta 0:00:05\n",
      "   --------------------- ------------------ 8.3/15.8 MB 1.7 MB/s eta 0:00:05\n",
      "   --------------------- ------------------ 8.3/15.8 MB 1.7 MB/s eta 0:00:05\n",
      "   --------------------- ------------------ 8.4/15.8 MB 1.7 MB/s eta 0:00:05\n",
      "   --------------------- ------------------ 8.4/15.8 MB 1.7 MB/s eta 0:00:05\n",
      "   --------------------- ------------------ 8.4/15.8 MB 1.7 MB/s eta 0:00:05\n",
      "   --------------------- ------------------ 8.5/15.8 MB 1.7 MB/s eta 0:00:05\n",
      "   --------------------- ------------------ 8.5/15.8 MB 1.7 MB/s eta 0:00:05\n",
      "   --------------------- ------------------ 8.5/15.8 MB 1.6 MB/s eta 0:00:05\n",
      "   --------------------- ------------------ 8.5/15.8 MB 1.6 MB/s eta 0:00:05\n",
      "   --------------------- ------------------ 8.6/15.8 MB 1.6 MB/s eta 0:00:05\n",
      "   --------------------- ------------------ 8.6/15.8 MB 1.6 MB/s eta 0:00:05\n",
      "   --------------------- ------------------ 8.6/15.8 MB 1.6 MB/s eta 0:00:05\n",
      "   --------------------- ------------------ 8.7/15.8 MB 1.6 MB/s eta 0:00:05\n",
      "   --------------------- ------------------ 8.7/15.8 MB 1.6 MB/s eta 0:00:05\n",
      "   ---------------------- ----------------- 8.7/15.8 MB 1.6 MB/s eta 0:00:05\n",
      "   ---------------------- ----------------- 8.7/15.8 MB 1.6 MB/s eta 0:00:05\n",
      "   ---------------------- ----------------- 8.8/15.8 MB 1.6 MB/s eta 0:00:05\n",
      "   ---------------------- ----------------- 8.8/15.8 MB 1.6 MB/s eta 0:00:05\n",
      "   ---------------------- ----------------- 8.8/15.8 MB 1.5 MB/s eta 0:00:05\n",
      "   ---------------------- ----------------- 8.8/15.8 MB 1.5 MB/s eta 0:00:05\n",
      "   ---------------------- ----------------- 8.8/15.8 MB 1.5 MB/s eta 0:00:05\n",
      "   ---------------------- ----------------- 8.8/15.8 MB 1.5 MB/s eta 0:00:05\n",
      "   ---------------------- ----------------- 8.9/15.8 MB 1.5 MB/s eta 0:00:05\n",
      "   ---------------------- ----------------- 8.9/15.8 MB 1.5 MB/s eta 0:00:05\n",
      "   ---------------------- ----------------- 8.9/15.8 MB 1.5 MB/s eta 0:00:05\n",
      "   ---------------------- ----------------- 8.9/15.8 MB 1.5 MB/s eta 0:00:05\n",
      "   ---------------------- ----------------- 8.9/15.8 MB 1.5 MB/s eta 0:00:05\n",
      "   ---------------------- ----------------- 8.9/15.8 MB 1.5 MB/s eta 0:00:05\n",
      "   ---------------------- ----------------- 9.0/15.8 MB 1.5 MB/s eta 0:00:05\n",
      "   ---------------------- ----------------- 9.0/15.8 MB 1.5 MB/s eta 0:00:05\n",
      "   ---------------------- ----------------- 9.0/15.8 MB 1.5 MB/s eta 0:00:05\n",
      "   ---------------------- ----------------- 9.0/15.8 MB 1.4 MB/s eta 0:00:05\n",
      "   ---------------------- ----------------- 9.0/15.8 MB 1.4 MB/s eta 0:00:05\n",
      "   ---------------------- ----------------- 9.1/15.8 MB 1.4 MB/s eta 0:00:05\n",
      "   ----------------------- ---------------- 9.1/15.8 MB 1.4 MB/s eta 0:00:05\n",
      "   ----------------------- ---------------- 9.1/15.8 MB 1.4 MB/s eta 0:00:05\n",
      "   ----------------------- ---------------- 9.2/15.8 MB 1.4 MB/s eta 0:00:05\n",
      "   ----------------------- ---------------- 9.2/15.8 MB 1.4 MB/s eta 0:00:05\n",
      "   ----------------------- ---------------- 9.2/15.8 MB 1.4 MB/s eta 0:00:05\n",
      "   ----------------------- ---------------- 9.2/15.8 MB 1.4 MB/s eta 0:00:05\n",
      "   ----------------------- ---------------- 9.3/15.8 MB 1.4 MB/s eta 0:00:05\n",
      "   ----------------------- ---------------- 9.3/15.8 MB 1.4 MB/s eta 0:00:05\n",
      "   ----------------------- ---------------- 9.3/15.8 MB 1.4 MB/s eta 0:00:05\n",
      "   ----------------------- ---------------- 9.4/15.8 MB 1.4 MB/s eta 0:00:05\n",
      "   ----------------------- ---------------- 9.4/15.8 MB 1.4 MB/s eta 0:00:05\n",
      "   ----------------------- ---------------- 9.4/15.8 MB 1.4 MB/s eta 0:00:05\n",
      "   ----------------------- ---------------- 9.5/15.8 MB 1.4 MB/s eta 0:00:05\n",
      "   ------------------------ --------------- 9.5/15.8 MB 1.4 MB/s eta 0:00:05\n",
      "   ------------------------ --------------- 9.5/15.8 MB 1.4 MB/s eta 0:00:05\n",
      "   ------------------------ --------------- 9.6/15.8 MB 1.3 MB/s eta 0:00:05\n",
      "   ------------------------ --------------- 9.6/15.8 MB 1.3 MB/s eta 0:00:05\n",
      "   ------------------------ --------------- 9.6/15.8 MB 1.3 MB/s eta 0:00:05\n",
      "   ------------------------ --------------- 9.7/15.8 MB 1.3 MB/s eta 0:00:05\n",
      "   ------------------------ --------------- 9.7/15.8 MB 1.3 MB/s eta 0:00:05\n",
      "   ------------------------ --------------- 9.7/15.8 MB 1.3 MB/s eta 0:00:05\n",
      "   ------------------------ --------------- 9.8/15.8 MB 1.3 MB/s eta 0:00:05\n",
      "   ------------------------ --------------- 9.8/15.8 MB 1.3 MB/s eta 0:00:05\n",
      "   ------------------------ --------------- 9.9/15.8 MB 1.3 MB/s eta 0:00:05\n",
      "   ------------------------- -------------- 9.9/15.8 MB 1.3 MB/s eta 0:00:05\n",
      "   ------------------------- -------------- 9.9/15.8 MB 1.3 MB/s eta 0:00:05\n",
      "   ------------------------- -------------- 10.0/15.8 MB 1.3 MB/s eta 0:00:05\n",
      "   ------------------------- -------------- 10.0/15.8 MB 1.3 MB/s eta 0:00:05\n",
      "   ------------------------- -------------- 10.1/15.8 MB 1.3 MB/s eta 0:00:05\n",
      "   ------------------------- -------------- 10.1/15.8 MB 1.3 MB/s eta 0:00:05\n",
      "   ------------------------- -------------- 10.2/15.8 MB 1.3 MB/s eta 0:00:05\n",
      "   ------------------------- -------------- 10.2/15.8 MB 1.3 MB/s eta 0:00:05\n",
      "   ------------------------- -------------- 10.3/15.8 MB 1.3 MB/s eta 0:00:05\n",
      "   -------------------------- ------------- 10.3/15.8 MB 1.3 MB/s eta 0:00:05\n",
      "   -------------------------- ------------- 10.4/15.8 MB 1.3 MB/s eta 0:00:05\n",
      "   -------------------------- ------------- 10.4/15.8 MB 1.3 MB/s eta 0:00:05\n",
      "   -------------------------- ------------- 10.5/15.8 MB 1.3 MB/s eta 0:00:05\n",
      "   -------------------------- ------------- 10.5/15.8 MB 1.3 MB/s eta 0:00:05\n",
      "   -------------------------- ------------- 10.6/15.8 MB 1.3 MB/s eta 0:00:05\n",
      "   -------------------------- ------------- 10.6/15.8 MB 1.3 MB/s eta 0:00:05\n",
      "   -------------------------- ------------- 10.6/15.8 MB 1.3 MB/s eta 0:00:05\n",
      "   --------------------------- ------------ 10.7/15.8 MB 1.3 MB/s eta 0:00:05\n",
      "   --------------------------- ------------ 10.7/15.8 MB 1.3 MB/s eta 0:00:05\n",
      "   --------------------------- ------------ 10.7/15.8 MB 1.3 MB/s eta 0:00:04\n",
      "   --------------------------- ------------ 10.8/15.8 MB 1.3 MB/s eta 0:00:04\n",
      "   --------------------------- ------------ 10.8/15.8 MB 1.3 MB/s eta 0:00:04\n",
      "   --------------------------- ------------ 10.9/15.8 MB 1.3 MB/s eta 0:00:04\n",
      "   --------------------------- ------------ 10.9/15.8 MB 1.2 MB/s eta 0:00:04\n",
      "   --------------------------- ------------ 11.0/15.8 MB 1.2 MB/s eta 0:00:04\n",
      "   --------------------------- ------------ 11.0/15.8 MB 1.2 MB/s eta 0:00:04\n",
      "   --------------------------- ------------ 11.0/15.8 MB 1.2 MB/s eta 0:00:04\n",
      "   ---------------------------- ----------- 11.1/15.8 MB 1.2 MB/s eta 0:00:04\n",
      "   ---------------------------- ----------- 11.1/15.8 MB 1.2 MB/s eta 0:00:04\n",
      "   ---------------------------- ----------- 11.1/15.8 MB 1.2 MB/s eta 0:00:04\n",
      "   ---------------------------- ----------- 11.2/15.8 MB 1.2 MB/s eta 0:00:04\n",
      "   ---------------------------- ----------- 11.2/15.8 MB 1.2 MB/s eta 0:00:04\n",
      "   ---------------------------- ----------- 11.2/15.8 MB 1.2 MB/s eta 0:00:04\n",
      "   ---------------------------- ----------- 11.3/15.8 MB 1.2 MB/s eta 0:00:04\n",
      "   ---------------------------- ----------- 11.3/15.8 MB 1.2 MB/s eta 0:00:04\n",
      "   ---------------------------- ----------- 11.3/15.8 MB 1.2 MB/s eta 0:00:04\n",
      "   ---------------------------- ----------- 11.3/15.8 MB 1.2 MB/s eta 0:00:04\n",
      "   ---------------------------- ----------- 11.4/15.8 MB 1.2 MB/s eta 0:00:04\n",
      "   ---------------------------- ----------- 11.4/15.8 MB 1.2 MB/s eta 0:00:04\n",
      "   ---------------------------- ----------- 11.4/15.8 MB 1.2 MB/s eta 0:00:04\n",
      "   ----------------------------- ---------- 11.5/15.8 MB 1.2 MB/s eta 0:00:04\n",
      "   ----------------------------- ---------- 11.5/15.8 MB 1.2 MB/s eta 0:00:04\n",
      "   ----------------------------- ---------- 11.5/15.8 MB 1.2 MB/s eta 0:00:04\n",
      "   ----------------------------- ---------- 11.5/15.8 MB 1.2 MB/s eta 0:00:04\n",
      "   ----------------------------- ---------- 11.6/15.8 MB 1.2 MB/s eta 0:00:04\n",
      "   ----------------------------- ---------- 11.6/15.8 MB 1.2 MB/s eta 0:00:04\n",
      "   ----------------------------- ---------- 11.6/15.8 MB 1.1 MB/s eta 0:00:04\n",
      "   ----------------------------- ---------- 11.7/15.8 MB 1.1 MB/s eta 0:00:04\n",
      "   ----------------------------- ---------- 11.7/15.8 MB 1.1 MB/s eta 0:00:04\n",
      "   ----------------------------- ---------- 11.7/15.8 MB 1.1 MB/s eta 0:00:04\n",
      "   ----------------------------- ---------- 11.7/15.8 MB 1.1 MB/s eta 0:00:04\n",
      "   ----------------------------- ---------- 11.8/15.8 MB 1.1 MB/s eta 0:00:04\n",
      "   ----------------------------- ---------- 11.8/15.8 MB 1.1 MB/s eta 0:00:04\n",
      "   ----------------------------- ---------- 11.8/15.8 MB 1.1 MB/s eta 0:00:04\n",
      "   ----------------------------- ---------- 11.8/15.8 MB 1.1 MB/s eta 0:00:04\n",
      "   ------------------------------ --------- 11.9/15.8 MB 1.1 MB/s eta 0:00:04\n",
      "   ------------------------------ --------- 11.9/15.8 MB 1.1 MB/s eta 0:00:04\n",
      "   ------------------------------ --------- 12.0/15.8 MB 1.1 MB/s eta 0:00:04\n",
      "   ------------------------------ --------- 12.0/15.8 MB 1.1 MB/s eta 0:00:04\n",
      "   ------------------------------ --------- 12.0/15.8 MB 1.1 MB/s eta 0:00:04\n",
      "   ------------------------------ --------- 12.1/15.8 MB 1.1 MB/s eta 0:00:04\n",
      "   ------------------------------ --------- 12.1/15.8 MB 1.1 MB/s eta 0:00:04\n",
      "   ------------------------------ --------- 12.1/15.8 MB 1.1 MB/s eta 0:00:04\n",
      "   ------------------------------ --------- 12.2/15.8 MB 1.1 MB/s eta 0:00:04\n",
      "   ------------------------------ --------- 12.2/15.8 MB 1.1 MB/s eta 0:00:04\n",
      "   ------------------------------ --------- 12.2/15.8 MB 1.1 MB/s eta 0:00:04\n",
      "   ------------------------------- -------- 12.3/15.8 MB 1.1 MB/s eta 0:00:04\n",
      "   ------------------------------- -------- 12.3/15.8 MB 1.1 MB/s eta 0:00:04\n",
      "   ------------------------------- -------- 12.4/15.8 MB 1.1 MB/s eta 0:00:04\n",
      "   ------------------------------- -------- 12.4/15.8 MB 1.1 MB/s eta 0:00:04\n",
      "   ------------------------------- -------- 12.5/15.8 MB 1.1 MB/s eta 0:00:04\n",
      "   ------------------------------- -------- 12.5/15.8 MB 1.1 MB/s eta 0:00:04\n",
      "   ------------------------------- -------- 12.5/15.8 MB 1.1 MB/s eta 0:00:04\n",
      "   ------------------------------- -------- 12.6/15.8 MB 1.1 MB/s eta 0:00:04\n",
      "   ------------------------------- -------- 12.6/15.8 MB 1.1 MB/s eta 0:00:03\n",
      "   -------------------------------- ------- 12.7/15.8 MB 1.1 MB/s eta 0:00:03\n",
      "   -------------------------------- ------- 12.7/15.8 MB 1.1 MB/s eta 0:00:03\n",
      "   -------------------------------- ------- 12.8/15.8 MB 1.1 MB/s eta 0:00:03\n",
      "   -------------------------------- ------- 12.8/15.8 MB 1.0 MB/s eta 0:00:03\n",
      "   -------------------------------- ------- 12.9/15.8 MB 1.0 MB/s eta 0:00:03\n",
      "   -------------------------------- ------- 12.9/15.8 MB 1.0 MB/s eta 0:00:03\n",
      "   -------------------------------- ------- 13.0/15.8 MB 1.0 MB/s eta 0:00:03\n",
      "   -------------------------------- ------- 13.0/15.8 MB 1.0 MB/s eta 0:00:03\n",
      "   --------------------------------- ------ 13.1/15.8 MB 1.0 MB/s eta 0:00:03\n",
      "   --------------------------------- ------ 13.1/15.8 MB 1.0 MB/s eta 0:00:03\n",
      "   --------------------------------- ------ 13.2/15.8 MB 1.0 MB/s eta 0:00:03\n",
      "   --------------------------------- ------ 13.3/15.8 MB 1.0 MB/s eta 0:00:03\n",
      "   --------------------------------- ------ 13.3/15.8 MB 1.0 MB/s eta 0:00:03\n",
      "   --------------------------------- ------ 13.4/15.8 MB 1.0 MB/s eta 0:00:03\n",
      "   --------------------------------- ------ 13.4/15.8 MB 1.0 MB/s eta 0:00:03\n",
      "   ---------------------------------- ----- 13.5/15.8 MB 1.0 MB/s eta 0:00:03\n",
      "   ---------------------------------- ----- 13.5/15.8 MB 1.0 MB/s eta 0:00:03\n",
      "   ---------------------------------- ----- 13.6/15.8 MB 1.0 MB/s eta 0:00:03\n",
      "   ---------------------------------- ----- 13.6/15.8 MB 1.0 MB/s eta 0:00:03\n",
      "   ---------------------------------- ----- 13.7/15.8 MB 1.0 MB/s eta 0:00:03\n",
      "   ---------------------------------- ----- 13.8/15.8 MB 1.0 MB/s eta 0:00:03\n",
      "   ----------------------------------- ---- 13.8/15.8 MB 1.0 MB/s eta 0:00:02\n",
      "   ----------------------------------- ---- 13.9/15.8 MB 1.0 MB/s eta 0:00:02\n",
      "   ----------------------------------- ---- 13.9/15.8 MB 1.0 MB/s eta 0:00:02\n",
      "   ----------------------------------- ---- 14.0/15.8 MB 1.0 MB/s eta 0:00:02\n",
      "   ----------------------------------- ---- 14.0/15.8 MB 1.0 MB/s eta 0:00:02\n",
      "   ----------------------------------- ---- 14.0/15.8 MB 998.0 kB/s eta 0:00:02\n",
      "   ----------------------------------- ---- 14.2/15.8 MB 1.0 MB/s eta 0:00:02\n",
      "   ----------------------------------- ---- 14.2/15.8 MB 999.6 kB/s eta 0:00:02\n",
      "   ------------------------------------ --- 14.3/15.8 MB 996.6 kB/s eta 0:00:02\n",
      "   ------------------------------------ --- 14.3/15.8 MB 995.0 kB/s eta 0:00:02\n",
      "   ------------------------------------ --- 14.4/15.8 MB 990.5 kB/s eta 0:00:02\n",
      "   ------------------------------------ --- 14.4/15.8 MB 989.0 kB/s eta 0:00:02\n",
      "   ------------------------------------ --- 14.5/15.8 MB 986.0 kB/s eta 0:00:02\n",
      "   ------------------------------------ --- 14.5/15.8 MB 984.5 kB/s eta 0:00:02\n",
      "   ------------------------------------ --- 14.6/15.8 MB 980.1 kB/s eta 0:00:02\n",
      "   ------------------------------------- -- 14.6/15.8 MB 978.6 kB/s eta 0:00:02\n",
      "   ------------------------------------- -- 14.7/15.8 MB 975.7 kB/s eta 0:00:02\n",
      "   ------------------------------------- -- 14.7/15.8 MB 972.8 kB/s eta 0:00:02\n",
      "   ------------------------------------- -- 14.8/15.8 MB 972.8 kB/s eta 0:00:02\n",
      "   ------------------------------------- -- 14.9/15.8 MB 971.3 kB/s eta 0:00:01\n",
      "   ------------------------------------- -- 14.9/15.8 MB 968.5 kB/s eta 0:00:01\n",
      "   ------------------------------------- -- 15.0/15.8 MB 965.7 kB/s eta 0:00:01\n",
      "   ------------------------------------- -- 15.0/15.8 MB 964.3 kB/s eta 0:00:01\n",
      "   -------------------------------------- - 15.1/15.8 MB 962.8 kB/s eta 0:00:01\n",
      "   -------------------------------------- - 15.1/15.8 MB 961.4 kB/s eta 0:00:01\n",
      "   -------------------------------------- - 15.2/15.8 MB 957.1 kB/s eta 0:00:01\n",
      "   -------------------------------------- - 15.2/15.8 MB 954.4 kB/s eta 0:00:01\n",
      "   -------------------------------------- - 15.3/15.8 MB 951.6 kB/s eta 0:00:01\n",
      "   -------------------------------------- - 15.4/15.8 MB 951.6 kB/s eta 0:00:01\n",
      "   -------------------------------------- - 15.4/15.8 MB 950.3 kB/s eta 0:00:01\n",
      "   ---------------------------------------  15.5/15.8 MB 948.9 kB/s eta 0:00:01\n",
      "   ---------------------------------------  15.5/15.8 MB 947.5 kB/s eta 0:00:01\n",
      "   ---------------------------------------  15.6/15.8 MB 946.1 kB/s eta 0:00:01\n",
      "   ---------------------------------------  15.6/15.8 MB 943.4 kB/s eta 0:00:01\n",
      "   ---------------------------------------  15.7/15.8 MB 940.7 kB/s eta 0:00:01\n",
      "   ---------------------------------------  15.8/15.8 MB 938.0 kB/s eta 0:00:01\n",
      "   ---------------------------------------- 15.8/15.8 MB 936.5 kB/s eta 0:00:00\n",
      "Installing collected packages: numpy\n",
      "Note: you may need to restart the kernel to use updated packages.\n"
     ]
    },
    {
     "name": "stderr",
     "output_type": "stream",
     "text": [
      "  WARNING: Failed to write executable - trying to use .deleteme logic\n",
      "ERROR: Could not install packages due to an OSError: [WinError 2] The system cannot find the file specified: 'C:\\\\Python310\\\\Scripts\\\\f2py.exe' -> 'C:\\\\Python310\\\\Scripts\\\\f2py.exe.deleteme'\n",
      "\n",
      "\n",
      "[notice] A new release of pip is available: 23.3.2 -> 24.0\n",
      "[notice] To update, run: python.exe -m pip install --upgrade pip\n"
     ]
    }
   ],
   "source": [
    "pip install numpy"
   ]
  },
  {
   "cell_type": "code",
   "execution_count": 2,
   "id": "b3e71485-e0f7-4469-97c3-04c381d40050",
   "metadata": {},
   "outputs": [],
   "source": [
    "import numpy as np"
   ]
  },
  {
   "cell_type": "code",
   "execution_count": 3,
   "id": "82facf5b-e217-430c-b4d5-2fd603b16ebf",
   "metadata": {},
   "outputs": [
    {
     "data": {
      "text/plain": [
       "array([26, 37,  2, 46,  6, 30, 41, 43, 29, 49])"
      ]
     },
     "execution_count": 3,
     "metadata": {},
     "output_type": "execute_result"
    }
   ],
   "source": [
    "array = np.random.randint(1, 50, size=10)\n",
    "array"
   ]
  },
  {
   "cell_type": "code",
   "execution_count": 8,
   "id": "22539c5f-e1d0-468e-805e-7e539278bc28",
   "metadata": {},
   "outputs": [
    {
     "data": {
      "text/plain": [
       "dtype('int32')"
      ]
     },
     "execution_count": 8,
     "metadata": {},
     "output_type": "execute_result"
    }
   ],
   "source": [
    "array.dtype"
   ]
  },
  {
   "cell_type": "code",
   "execution_count": 9,
   "id": "22ba9696-f3aa-4d0e-a192-0210120bc7f5",
   "metadata": {},
   "outputs": [
    {
     "data": {
      "text/plain": [
       "(10,)"
      ]
     },
     "execution_count": 9,
     "metadata": {},
     "output_type": "execute_result"
    }
   ],
   "source": [
    "array.shape"
   ]
  },
  {
   "cell_type": "code",
   "execution_count": 11,
   "id": "c4942ed0-1193-4d1a-99e5-0948cc220ec5",
   "metadata": {},
   "outputs": [
    {
     "data": {
      "text/plain": [
       "1"
      ]
     },
     "execution_count": 11,
     "metadata": {},
     "output_type": "execute_result"
    }
   ],
   "source": [
    "array.ndim"
   ]
  },
  {
   "cell_type": "code",
   "execution_count": 14,
   "id": "a9b34e28-3e0a-4d51-bf32-41b3c6e38449",
   "metadata": {},
   "outputs": [
    {
     "data": {
      "text/plain": [
       "(2, 5)"
      ]
     },
     "execution_count": 14,
     "metadata": {},
     "output_type": "execute_result"
    }
   ],
   "source": [
    "towDarray = np.random.randint(10, 100, size=(2, 5))\n",
    "towDarray"
   ]
  },
  {
   "cell_type": "code",
   "execution_count": 15,
   "id": "49d1e226-d636-42f4-bdd5-3c35f5883e33",
   "metadata": {},
   "outputs": [
    {
     "data": {
      "text/plain": [
       "(2, 5)"
      ]
     },
     "execution_count": 15,
     "metadata": {},
     "output_type": "execute_result"
    }
   ],
   "source": [
    "towDarray.shape"
   ]
  },
  {
   "cell_type": "markdown",
   "id": "17a4a629-3de9-46ab-a8af-55b391dd1d95",
   "metadata": {},
   "source": [
    "lesson 3"
   ]
  },
  {
   "cell_type": "markdown",
   "id": "e00387c1-4760-4c08-ae28-3c777413c897",
   "metadata": {},
   "source": [
    "צרי מערך באורך 10 של מספרים שלמים רנדומליים בין 1 ל-50 וחשבי את הממוצע של המספרים\n",
    "צרי שני מערכים דו מימדיים בגודל 3, חברי אותם, ובדקי מה הממוצע של התוצאה\n",
    "צרי מערך של 20 מספרים שלמים רנדומליים בין 1 ל-100. מצאי את כל המספרים שגדולים מ-50 במערך זה.\n",
    "צרי מערך של מספרים מ-1 עד 10. ערבבי את המערך ולאחר מכן בחרי באופן אקראי אלמנטים ממנו"
   ]
  },
  {
   "cell_type": "code",
   "execution_count": 14,
   "id": "c84d3c5a-149a-4e55-a943-366354d734a2",
   "metadata": {},
   "outputs": [
    {
     "data": {
      "text/plain": [
       "[array([ 1,  6, 27, 23,  5,  9, 25, 36, 36,  6]), 'avarage: ', 17.4]"
      ]
     },
     "execution_count": 14,
     "metadata": {},
     "output_type": "execute_result"
    }
   ],
   "source": [
    "array = np.random.randint(1, 50, size=(10))\n",
    "avg = np.mean(array)\n",
    "[array,\n",
    "'avarage: ' , avg]"
   ]
  },
  {
   "cell_type": "code",
   "execution_count": 22,
   "id": "4c638287-d42c-4ae2-afaf-a9eed8e05c1d",
   "metadata": {},
   "outputs": [
    {
     "data": {
      "text/plain": [
       "2.0"
      ]
     },
     "execution_count": 22,
     "metadata": {},
     "output_type": "execute_result"
    }
   ],
   "source": [
    "one = np.array([[1, 1, 1], [2, 2, 2], [3, 3, 3]])\n",
    "tue = np.array([[1, 1, 1], [2, 2, 2], [3, 3, 3]])\n",
    "avg = np.mean((one+tue)/2)\n",
    "avg"
   ]
  },
  {
   "cell_type": "code",
   "execution_count": null,
   "id": "3106c201-74a6-455c-886c-7e9dbcf34a1a",
   "metadata": {},
   "outputs": [],
   "source": [
    "array = np.random.randint(1, 100, size=(20)"
   ]
  },
  {
   "cell_type": "markdown",
   "id": "dba66a95-e7ff-43fc-94be-1f9f8d460d8a",
   "metadata": {},
   "source": [
    "lesson 4"
   ]
  },
  {
   "cell_type": "code",
   "execution_count": 27,
   "id": "9c7b6738-bb23-4a0e-b90c-83224ac2247d",
   "metadata": {},
   "outputs": [
    {
     "name": "stdout",
     "output_type": "stream",
     "text": [
      "Collecting matplotlib\n",
      "  Using cached matplotlib-3.8.2-cp310-cp310-win_amd64.whl.metadata (5.9 kB)\n",
      "Collecting contourpy>=1.0.1 (from matplotlib)\n",
      "  Using cached contourpy-1.2.0-cp310-cp310-win_amd64.whl.metadata (5.8 kB)\n",
      "Collecting cycler>=0.10 (from matplotlib)\n",
      "  Using cached cycler-0.12.1-py3-none-any.whl.metadata (3.8 kB)\n",
      "Requirement already satisfied: fonttools>=4.22.0 in c:\\python310\\lib\\site-packages (from matplotlib) (4.48.1)\n",
      "Requirement already satisfied: kiwisolver>=1.3.1 in c:\\python310\\lib\\site-packages (from matplotlib) (1.4.5)\n",
      "Requirement already satisfied: numpy<2,>=1.21 in c:\\python310\\lib\\site-packages (from matplotlib) (1.26.4)\n",
      "Requirement already satisfied: packaging>=20.0 in c:\\python310\\lib\\site-packages (from matplotlib) (23.2)\n",
      "Requirement already satisfied: pillow>=8 in c:\\python310\\lib\\site-packages (from matplotlib) (10.2.0)\n",
      "Requirement already satisfied: pyparsing>=2.3.1 in c:\\python310\\lib\\site-packages (from matplotlib) (3.1.1)\n",
      "Requirement already satisfied: python-dateutil>=2.7 in c:\\python310\\lib\\site-packages (from matplotlib) (2.8.2)\n",
      "Requirement already satisfied: six>=1.5 in c:\\python310\\lib\\site-packages (from python-dateutil>=2.7->matplotlib) (1.16.0)\n",
      "Using cached matplotlib-3.8.2-cp310-cp310-win_amd64.whl (7.6 MB)\n",
      "Using cached contourpy-1.2.0-cp310-cp310-win_amd64.whl (186 kB)\n",
      "Using cached cycler-0.12.1-py3-none-any.whl (8.3 kB)\n",
      "Installing collected packages: cycler, contourpy, matplotlib\n",
      "Successfully installed contourpy-1.2.0 cycler-0.12.1 matplotlib-3.8.2\n",
      "Note: you may need to restart the kernel to use updated packages.\n"
     ]
    },
    {
     "name": "stderr",
     "output_type": "stream",
     "text": [
      "\n",
      "[notice] A new release of pip is available: 23.3.2 -> 24.0\n",
      "[notice] To update, run: python.exe -m pip install --upgrade pip\n"
     ]
    }
   ],
   "source": [
    "pip install matplotlib"
   ]
  },
  {
   "cell_type": "code",
   "execution_count": 28,
   "id": "b9123a74-88c2-4e14-8816-816eb09de884",
   "metadata": {},
   "outputs": [],
   "source": [
    "import matplotlib.pyplot as plt"
   ]
  },
  {
   "cell_type": "markdown",
   "id": "10dbb6f7-1eea-4243-ae1c-ee28bfe14809",
   "metadata": {},
   "source": [
    "\n",
    "מטרה: ליצור גרף קו שמציג את השינוי בטמפרטורה לאורך זמן.\n",
    "נתונים: טמפרטורות ממוצעות לכל חודש בשנה.\n",
    "תרגיל 2: גרף עמודות\n",
    "\n",
    "מטרה: להציג את כמות המכירות לפי קטגוריה.\n",
    "נתונים: מכירות של 4 קטגוריות מוצרים בחנות.\n",
    "תרגיל 3: גרף פיזור\n",
    "\n",
    "מטרה: לחקור את הקשר בין זמן לימוד לציונים במבחן.\n",
    "נתונים: שעות לימוד וציונים של תלמידים.\n",
    "תרגיל 4: היסטוגרמה\n",
    "\n",
    "מטרה: לנתח את התפלגות גילאים בקבוצת נבדקים.\n",
    "נתונים: גילאים של אנשים בקבוצת מחקר.\n",
    "תרגיל 5: גרפים מרובים בחלון אחד (Subplots)\n",
    "\n",
    "מטרה: להשוות בין צריכת אנרגיה לפי שנים ומקורות.\n",
    "נתונים: צריכת אנרגיה לפי שנים ומקורות אנרגיה שונים."
   ]
  },
  {
   "cell_type": "code",
   "execution_count": 34,
   "id": "79c17253-c5f7-4736-a07a-83155729b93a",
   "metadata": {},
   "outputs": [
    {
     "data": {
      "text/plain": [
       "Text(0.5, 1.0, 'temperature by month')"
      ]
     },
     "execution_count": 34,
     "metadata": {},
     "output_type": "execute_result"
    },
    {
     "data": {
      "image/png": "[encoded data removed]",
      "text/plain": [
       "<Figure size 640x480 with 1 Axes>"
      ]
     },
     "metadata": {},
     "output_type": "display_data"
    }
   ],
   "source": [
    "month = np.arange(1, 12)\n",
    "temp = [10, 12, 8, 15, 25, 22, 26, 32, 24, 19, 1]\n",
    "plt.plot(month, temp)\n",
    "plt.title('temperature by month')"
   ]
  },
  {
   "cell_type": "code",
   "execution_count": 44,
   "id": "52dfe518-97b0-4eec-92dc-ba9834dbc3a7",
   "metadata": {},
   "outputs": [],
   "source": [
    "import matplotlib as m"
   ]
  },
  {
   "cell_type": "code",
   "execution_count": 47,
   "id": "e304b74a-c4a9-437e-97a0-7daa71e423a5",
   "metadata": {},
   "outputs": [
    {
     "data": {
      "text/plain": [
       "Text(0, 0.5, 'Values by kg')"
      ]
     },
     "execution_count": 47,
     "metadata": {},
     "output_type": "execute_result"
    },
    {
     "data": {
      "image/png": "[encoded data removed]",
      "text/plain": [
       "<Figure size 640x480 with 1 Axes>"
      ]
     },
     "metadata": {},
     "output_type": "display_data"
    }
   ],
   "source": [
    "\n",
    "categories = ['vegetables', 'fruits', 'pastries', 'nuts']\n",
    "amount = [223, 170, 506, 93]\n",
    "plt.bar(categories, amount)\n",
    "plt.title('Sales in kg by categories')\n",
    "plt.xlabel('Categories')\n",
    "plt.ylabel('Values by kg')"
   ]
  },
  {
   "cell_type": "code",
   "execution_count": 55,
   "id": "5f0e8661-e4c5-414c-b2ff-7066c2965928",
   "metadata": {},
   "outputs": [],
   "source": [
    "hours =  [10, 15, 1, 7, 8, 5, 2, 14, 6, 3]\n",
    "marks = [95, 85, 99, 75, 62, 89, 94, 93, 100, 81]\n",
    "colors = np.random.rand(10)\n",
    "sizes = 1000 * np.random.rand(10)"
   ]
  },
  {
   "cell_type": "code",
   "execution_count": 56,
   "id": "05f4d16c-1cb1-4f2d-ada3-6d82c1d2582c",
   "metadata": {},
   "outputs": [
    {
     "data": {
      "text/plain": [
       "Text(0.5, 1.0, 'Scatter Plot marks by hours of learning')"
      ]
     },
     "execution_count": 56,
     "metadata": {},
     "output_type": "execute_result"
    },
    {
     "data": {
      "image/png": "[encoded data removed]",
      "text/plain": [
       "<Figure size 640x480 with 2 Axes>"
      ]
     },
     "metadata": {},
     "output_type": "display_data"
    }
   ],
   "source": [
    "plt.scatter(hours, marks, c=colors, s=sizes, alpha=1, cmap='viridis')\n",
    "plt.colorbar()\n",
    "plt.title('Scatter Plot marks by hours of learning')"
   ]
  },
  {
   "cell_type": "code",
   "execution_count": null,
   "id": "d0c29b24-3637-4daa-b969-2daa179ccd3d",
   "metadata": {},
   "outputs": [],
   "source": []
  }
 ],
 "metadata": {
  "kernelspec": {
   "display_name": "Python 3 (ipykernel)",
   "language": "python",
   "name": "python3"
  },
  "language_info": {
   "codemirror_mode": {
    "name": "ipython",
    "version": 3
   },
   "file_extension": ".py",
   "mimetype": "text/x-python",
   "name": "python",
   "nbconvert_exporter": "python",
   "pygments_lexer": "ipython3",
   "version": "3.10.8"
  }
 },
 "nbformat": 4,
 "nbformat_minor": 5
}
